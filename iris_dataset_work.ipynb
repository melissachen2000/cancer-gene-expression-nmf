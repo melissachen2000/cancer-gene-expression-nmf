{
 "cells": [
  {
   "cell_type": "code",
   "execution_count": 1,
   "metadata": {},
   "outputs": [],
   "source": [
    "from sklearn.decomposition import NMF\n",
    "from sklearn.datasets import load_iris\n",
    "from sklearn.metrics import adjusted_mutual_info_score\n",
    "import numpy as np\n",
    "import pandas as pd\n",
    "import matplotlib.pyplot as plt\n",
    "from random import randrange, choices, random\n",
    "import math"
   ]
  },
  {
   "cell_type": "code",
   "execution_count": 2,
   "metadata": {},
   "outputs": [],
   "source": [
    "data = load_iris()\n",
    "np_data_orig = np.array(data[\"data\"])\n",
    "np_data = np.transpose(np_data_orig)\n",
    "ground_truth = list(np.array(data[\"target\"]))"
   ]
  },
  {
   "cell_type": "code",
   "execution_count": 3,
   "metadata": {},
   "outputs": [],
   "source": [
    "num = 3"
   ]
  },
  {
   "cell_type": "code",
   "execution_count": 4,
   "metadata": {},
   "outputs": [],
   "source": [
    "model = NMF(n_components=num, init=\"random\", solver=\"cd\", verbose=False)"
   ]
  },
  {
   "cell_type": "code",
   "execution_count": 69,
   "metadata": {},
   "outputs": [],
   "source": [
    "W = model.fit_transform(np_data)\n",
    "H = model.components_"
   ]
  },
  {
   "cell_type": "code",
   "execution_count": 70,
   "metadata": {},
   "outputs": [],
   "source": [
    "predicted_labels = []\n",
    "for x in range(H[0].size):\n",
    "    current_sample = list(H[:,x])\n",
    "    predicted_labels.append(current_sample.index(max(current_sample)))"
   ]
  },
  {
   "cell_type": "code",
   "execution_count": 71,
   "metadata": {},
   "outputs": [
    {
     "data": {
      "text/plain": [
       "0.5728536901635287"
      ]
     },
     "execution_count": 71,
     "metadata": {},
     "output_type": "execute_result"
    }
   ],
   "source": [
    "adjusted_mutual_info_score(ground_truth,predicted_labels,\"arithmetic\")"
   ]
  },
  {
   "cell_type": "code",
   "execution_count": 52,
   "metadata": {},
   "outputs": [],
   "source": [
    "angle_range = [0]\n",
    "for i in range(num):\n",
    "    count = predicted_labels.count(i)\n",
    "    angle_range.append(int(count / len(predicted_labels) * 360 + angle_range[-1]))"
   ]
  },
  {
   "cell_type": "code",
   "execution_count": 53,
   "metadata": {},
   "outputs": [],
   "source": [
    "colors = {0:\"orange\", 1:\"green\", 2:\"blue\"}  # colors assigned based on ground truth"
   ]
  },
  {
   "cell_type": "code",
   "execution_count": 54,
   "metadata": {},
   "outputs": [],
   "source": [
    "def weighted_random():\n",
    "    rands = range(0, 500)\n",
    "    weights = range(0, 500)\n",
    "    \n",
    "    return choices(rands, weights=weights)[0] / 1000"
   ]
  },
  {
   "cell_type": "code",
   "execution_count": 55,
   "metadata": {},
   "outputs": [],
   "source": [
    "#assigning point coordinates and color\n",
    "coords = {}\n",
    "for i in range(len(predicted_labels)):\n",
    "    a = randrange(angle_range[predicted_labels[i]],angle_range[predicted_labels[i] + 1]) * math.pi / 180\n",
    "    r = weighted_random()\n",
    "    \n",
    "    coords[r * math.cos(a), r * math.sin(a)] = colors[ground_truth[i]]"
   ]
  },
  {
   "cell_type": "code",
   "execution_count": 56,
   "metadata": {},
   "outputs": [
    {
     "data": {
      "image/png": "[encoded data removed]",
      "text/plain": [
       "<Figure size 432x288 with 1 Axes>"
      ]
     },
     "metadata": {
      "needs_background": "light"
     },
     "output_type": "display_data"
    }
   ],
   "source": [
    "keys = tuple(coords.keys())\n",
    "\n",
    "for index in range(len(keys)):\n",
    "    plt.scatter(keys[index][0], keys[index][1], color=coords[keys[index]], s=50)"
   ]
  },
  {
   "cell_type": "code",
   "execution_count": null,
   "metadata": {},
   "outputs": [],
   "source": []
  }
 ],
 "metadata": {
  "kernelspec": {
   "display_name": "Python 3",
   "language": "python",
   "name": "python3"
  },
  "language_info": {
   "codemirror_mode": {
    "name": "ipython",
    "version": 3
   },
   "file_extension": ".py",
   "mimetype": "text/x-python",
   "name": "python",
   "nbconvert_exporter": "python",
   "pygments_lexer": "ipython3",
   "version": "3.6.6"
  }
 },
 "nbformat": 4,
 "nbformat_minor": 2
}
