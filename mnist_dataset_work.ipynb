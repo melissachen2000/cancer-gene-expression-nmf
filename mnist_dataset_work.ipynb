{
 "cells": [
  {
   "cell_type": "code",
   "execution_count": 1,
   "metadata": {},
   "outputs": [],
   "source": [
    "from sklearn.decomposition import NMF\n",
    "import numpy as np\n",
    "import pandas as pd\n",
    "from tensorflow.keras.datasets import mnist\n",
    "from sklearn.metrics import adjusted_mutual_info_score\n",
    "import math\n",
    "import matplotlib.pyplot as plt\n",
    "import random\n",
    "from skimage.transform import resize"
   ]
  },
  {
   "cell_type": "code",
   "execution_count": 2,
   "metadata": {},
   "outputs": [],
   "source": [
    "#load the MNIST data from tensorflow\n",
    "(train_image, train_gt), (test_image, test_gt) = mnist.load_data()"
   ]
  },
  {
   "cell_type": "code",
   "execution_count": 3,
   "metadata": {},
   "outputs": [],
   "source": [
    "def vectorize(array):\n",
    "    \"\"\"vectorizes the image\"\"\"\n",
    "    result = []\n",
    "    for row in array:\n",
    "        result += tuple(row)\n",
    "\n",
    "    return np.array(result)"
   ]
  },
  {
   "cell_type": "code",
   "execution_count": 4,
   "metadata": {},
   "outputs": [],
   "source": [
    "def cut(image):\n",
    "    \"\"\"removes rows that do not contain non-zero pixels\"\"\"\n",
    "    result = []\n",
    "    for row in image:\n",
    "        if set(list(row)) != set([0]): result.append(row)\n",
    "    return result"
   ]
  },
  {
   "cell_type": "code",
   "execution_count": 5,
   "metadata": {},
   "outputs": [],
   "source": [
    "def crop(image):\n",
    "    \"\"\"crops all four edges of the image using the cut method\"\"\"\n",
    "    return np.array(cut(np.array(cut(image)).transpose())).transpose()"
   ]
  },
  {
   "cell_type": "code",
   "execution_count": 6,
   "metadata": {},
   "outputs": [
    {
     "name": "stderr",
     "output_type": "stream",
     "text": [
      "C:\\Users\\MYChe\\Anaconda3\\lib\\site-packages\\skimage\\transform\\_warps.py:105: UserWarning: The default mode, 'constant', will be changed to 'reflect' in skimage 0.15.\n",
      "  warn(\"The default mode, 'constant', will be changed to 'reflect' in \"\n",
      "C:\\Users\\MYChe\\Anaconda3\\lib\\site-packages\\skimage\\transform\\_warps.py:110: UserWarning: Anti-aliasing will be enabled by default in skimage 0.15 to avoid aliasing artifacts when down-sampling images.\n",
      "  warn(\"Anti-aliasing will be enabled by default in skimage 0.15 to \"\n"
     ]
    }
   ],
   "source": [
    "#crops and vectorizes each image in the dataset\n",
    "\n",
    "data = []\n",
    "\n",
    "train_image = list(train_image)\n",
    "\n",
    "for img in train_image: \n",
    "    data.append(vectorize(resize(crop(img), (28,28))))"
   ]
  },
  {
   "cell_type": "code",
   "execution_count": 7,
   "metadata": {},
   "outputs": [],
   "source": [
    "#transposes the data array so that samples are columns\n",
    "\n",
    "np_data = np.array(data)\n",
    "np_data = np_data.transpose()"
   ]
  },
  {
   "cell_type": "code",
   "execution_count": 8,
   "metadata": {},
   "outputs": [],
   "source": [
    "#set the value of K for NMF\n",
    "num = 10"
   ]
  },
  {
   "cell_type": "code",
   "execution_count": 9,
   "metadata": {},
   "outputs": [],
   "source": [
    "model = NMF(n_components=num, init=\"random\", solver=\"cd\")"
   ]
  },
  {
   "cell_type": "code",
   "execution_count": 10,
   "metadata": {},
   "outputs": [],
   "source": [
    "W = model.fit_transform(np_data)\n",
    "H = model.components_"
   ]
  },
  {
   "cell_type": "code",
   "execution_count": 11,
   "metadata": {},
   "outputs": [],
   "source": [
    "#determine the predicted label of each sample by taking the index of the max value of each col of H\n",
    "predicted_labels = []\n",
    "for x in range(H[0].size):\n",
    "    vector = list(H[:,x])\n",
    "    predicted_labels.append(vector.index(max(vector)))"
   ]
  },
  {
   "cell_type": "code",
   "execution_count": 12,
   "metadata": {},
   "outputs": [
    {
     "data": {
      "text/plain": [
       "0.3018262167808162"
      ]
     },
     "execution_count": 12,
     "metadata": {},
     "output_type": "execute_result"
    }
   ],
   "source": [
    "#calculate adjusted mutual info score/error\n",
    "adjusted_mutual_info_score(train_gt,predicted_labels,\"arithmetic\")"
   ]
  },
  {
   "cell_type": "code",
   "execution_count": 13,
   "metadata": {},
   "outputs": [],
   "source": [
    "#plots the results with ground truth as the color, coordinate randomly assigned based on predicted label \n",
    "angle = math.pi / 5\n",
    "radius = 5"
   ]
  },
  {
   "cell_type": "code",
   "execution_count": 14,
   "metadata": {},
   "outputs": [],
   "source": [
    "central_point = {}  # central point of the five distinct circles, each will have radius 1\n",
    "\n",
    "for i in range(num):\n",
    "    central_point[i] = (radius * math.cos(angle * i), radius * math.sin(angle * i))"
   ]
  },
  {
   "cell_type": "code",
   "execution_count": 15,
   "metadata": {},
   "outputs": [],
   "source": [
    "#colors assigned based on ground truth\n",
    "colors = {0:\"red\", 1:\"orange\", 2:\"yellow\", 3:\"green\", 4:\"blue\", 5:\"purple\", 6:\"cyan\", 7:\"magenta\", 8:\"black\", 9:\"pink\"} "
   ]
  },
  {
   "cell_type": "code",
   "execution_count": 16,
   "metadata": {},
   "outputs": [],
   "source": [
    "#assigning point coordinates and color\n",
    "coords = {}\n",
    "for i in range(len(predicted_labels)):\n",
    "    a = random.random() * 2 * math.pi\n",
    "    r = math.sqrt(random.random())\n",
    "    \n",
    "    (x,y) = central_point[predicted_labels[i]]\n",
    "    \n",
    "    coords[r * math.cos(a) + x, r * math.sin(a) + y] = colors[train_gt[i]]"
   ]
  },
  {
   "cell_type": "code",
   "execution_count": null,
   "metadata": {},
   "outputs": [],
   "source": [
    "keys = tuple(coords.keys())\n",
    "\n",
    "for index in range(len(keys)):\n",
    "    plt.scatter(keys[index][0], keys[index][1], color=coords[keys[index]], s=15)"
   ]
  },
  {
   "cell_type": "code",
   "execution_count": null,
   "metadata": {},
   "outputs": [],
   "source": [
    "#MNIST dataset is extremely difficult to cluster using this NMF method\n",
    "#future work, use PCA on the resulting W and H matrices to further refine this"
   ]
  }
 ],
 "metadata": {
  "kernelspec": {
   "display_name": "Python 3",
   "language": "python",
   "name": "python3"
  },
  "language_info": {
   "codemirror_mode": {
    "name": "ipython",
    "version": 3
   },
   "file_extension": ".py",
   "mimetype": "text/x-python",
   "name": "python",
   "nbconvert_exporter": "python",
   "pygments_lexer": "ipython3",
   "version": "3.6.6"
  }
 },
 "nbformat": 4,
 "nbformat_minor": 2
}
